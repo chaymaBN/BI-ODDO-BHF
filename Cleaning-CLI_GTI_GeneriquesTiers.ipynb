{
 "cells": [
  {
   "cell_type": "code",
   "execution_count": 2,
   "metadata": {},
   "outputs": [],
   "source": [
    "import pandas as pd\n",
    "import numpy as np "
   ]
  },
  {
   "cell_type": "markdown",
   "metadata": {},
   "source": [
    "# Chargement des données "
   ]
  },
  {
   "cell_type": "code",
   "execution_count": 5,
   "metadata": {},
   "outputs": [
    {
     "name": "stderr",
     "output_type": "stream",
     "text": [
      "C:\\Users\\Travaille\\Anaconda3\\lib\\site-packages\\IPython\\core\\interactiveshell.py:2785: DtypeWarning: Columns (15) have mixed types. Specify dtype option on import or set low_memory=False.\n",
      "  interactivity=interactivity, compiler=compiler, result=result)\n"
     ]
    }
   ],
   "source": [
    "# GeneriquesComptes = pd.read_csv(\"./data/CLI_GCO_GeneriquesComptes.csv\", sep=\";\")\n",
    "\n",
    "GeneriquesTiers = pd.read_csv(\"data/CLI_GTI_GeneriquesTiers.csv\", sep=\";\",error_bad_lines=False)\n",
    "\n"
   ]
  },
  {
   "cell_type": "code",
   "execution_count": 6,
   "metadata": {},
   "outputs": [
    {
     "data": {
      "text/html": [
       "<div>\n",
       "<style scoped>\n",
       "    .dataframe tbody tr th:only-of-type {\n",
       "        vertical-align: middle;\n",
       "    }\n",
       "\n",
       "    .dataframe tbody tr th {\n",
       "        vertical-align: top;\n",
       "    }\n",
       "\n",
       "    .dataframe thead th {\n",
       "        text-align: right;\n",
       "    }\n",
       "</style>\n",
       "<table border=\"1\" class=\"dataframe\">\n",
       "  <thead>\n",
       "    <tr style=\"text-align: right;\">\n",
       "      <th></th>\n",
       "      <th>GTI_CodSociete</th>\n",
       "      <th>GTI_CodPrestataire</th>\n",
       "      <th>GTI_CodTiers</th>\n",
       "      <th>PaysNaissance</th>\n",
       "      <th>EW28_Libelle</th>\n",
       "      <th>civilite</th>\n",
       "      <th>GTI_NumStatutPers</th>\n",
       "      <th>GTI_DatNaissanceOuCreation</th>\n",
       "      <th>Sexe</th>\n",
       "      <th>SituationFamiliale</th>\n",
       "      <th>csp</th>\n",
       "      <th>profession</th>\n",
       "      <th>GTI_CodTypeInvestisseurMif2</th>\n",
       "      <th>GTI_CodExperienceMif2</th>\n",
       "      <th>GTI_CodCapaciteProduitComplexeMif2</th>\n",
       "      <th>DepartementResidence</th>\n",
       "    </tr>\n",
       "  </thead>\n",
       "  <tbody>\n",
       "    <tr>\n",
       "      <th>0</th>\n",
       "      <td>OBP</td>\n",
       "      <td>GV1</td>\n",
       "      <td>0xEF95D701D557C772829DEA1799F993F1</td>\n",
       "      <td>NaN</td>\n",
       "      <td>NaN</td>\n",
       "      <td>Madame</td>\n",
       "      <td>0</td>\n",
       "      <td>1990.0</td>\n",
       "      <td>FEMININ</td>\n",
       "      <td>NaN</td>\n",
       "      <td>NaN</td>\n",
       "      <td>NaN</td>\n",
       "      <td>NaN</td>\n",
       "      <td>NaN</td>\n",
       "      <td>NaN</td>\n",
       "      <td>13</td>\n",
       "    </tr>\n",
       "    <tr>\n",
       "      <th>1</th>\n",
       "      <td>OBP</td>\n",
       "      <td>GV1</td>\n",
       "      <td>0x7DB06BECD6FD75E03E214A397AA4B717</td>\n",
       "      <td>NaN</td>\n",
       "      <td>NaN</td>\n",
       "      <td>Madame</td>\n",
       "      <td>0</td>\n",
       "      <td>1970.0</td>\n",
       "      <td>FEMININ</td>\n",
       "      <td>NaN</td>\n",
       "      <td>NaN</td>\n",
       "      <td>NaN</td>\n",
       "      <td>NaN</td>\n",
       "      <td>NaN</td>\n",
       "      <td>NaN</td>\n",
       "      <td>44</td>\n",
       "    </tr>\n",
       "    <tr>\n",
       "      <th>2</th>\n",
       "      <td>OBP</td>\n",
       "      <td>GV1</td>\n",
       "      <td>0x9CF059985C10E2A99077C65912980377</td>\n",
       "      <td>NaN</td>\n",
       "      <td>NaN</td>\n",
       "      <td>Monsieur</td>\n",
       "      <td>0</td>\n",
       "      <td>1940.0</td>\n",
       "      <td>Masculin</td>\n",
       "      <td>NaN</td>\n",
       "      <td>NaN</td>\n",
       "      <td>NaN</td>\n",
       "      <td>NaN</td>\n",
       "      <td>NaN</td>\n",
       "      <td>NaN</td>\n",
       "      <td>75</td>\n",
       "    </tr>\n",
       "    <tr>\n",
       "      <th>3</th>\n",
       "      <td>OBP</td>\n",
       "      <td>GV1</td>\n",
       "      <td>0x846F952808A6A0923BE4572E9B61902B</td>\n",
       "      <td>NaN</td>\n",
       "      <td>NaN</td>\n",
       "      <td>Madame</td>\n",
       "      <td>0</td>\n",
       "      <td>1960.0</td>\n",
       "      <td>FEMININ</td>\n",
       "      <td>NaN</td>\n",
       "      <td>NaN</td>\n",
       "      <td>NaN</td>\n",
       "      <td>NaN</td>\n",
       "      <td>NaN</td>\n",
       "      <td>NaN</td>\n",
       "      <td>95</td>\n",
       "    </tr>\n",
       "    <tr>\n",
       "      <th>4</th>\n",
       "      <td>OBP</td>\n",
       "      <td>GV1</td>\n",
       "      <td>0x5188CAC4E12B49220EB69C5BDD7726BF</td>\n",
       "      <td>NaN</td>\n",
       "      <td>NaN</td>\n",
       "      <td>Monsieur</td>\n",
       "      <td>0</td>\n",
       "      <td>1940.0</td>\n",
       "      <td>Masculin</td>\n",
       "      <td>NaN</td>\n",
       "      <td>NaN</td>\n",
       "      <td>NaN</td>\n",
       "      <td>NaN</td>\n",
       "      <td>NaN</td>\n",
       "      <td>NaN</td>\n",
       "      <td>83</td>\n",
       "    </tr>\n",
       "  </tbody>\n",
       "</table>\n",
       "</div>"
      ],
      "text/plain": [
       "  GTI_CodSociete GTI_CodPrestataire                        GTI_CodTiers  \\\n",
       "0            OBP                GV1  0xEF95D701D557C772829DEA1799F993F1   \n",
       "1            OBP                GV1  0x7DB06BECD6FD75E03E214A397AA4B717   \n",
       "2            OBP                GV1  0x9CF059985C10E2A99077C65912980377   \n",
       "3            OBP                GV1  0x846F952808A6A0923BE4572E9B61902B   \n",
       "4            OBP                GV1  0x5188CAC4E12B49220EB69C5BDD7726BF   \n",
       "\n",
       "  PaysNaissance EW28_Libelle  civilite  GTI_NumStatutPers  \\\n",
       "0           NaN          NaN    Madame                  0   \n",
       "1           NaN          NaN    Madame                  0   \n",
       "2           NaN          NaN  Monsieur                  0   \n",
       "3           NaN          NaN    Madame                  0   \n",
       "4           NaN          NaN  Monsieur                  0   \n",
       "\n",
       "   GTI_DatNaissanceOuCreation      Sexe SituationFamiliale  csp profession  \\\n",
       "0                      1990.0   FEMININ                NaN  NaN        NaN   \n",
       "1                      1970.0   FEMININ                NaN  NaN        NaN   \n",
       "2                      1940.0  Masculin                NaN  NaN        NaN   \n",
       "3                      1960.0   FEMININ                NaN  NaN        NaN   \n",
       "4                      1940.0  Masculin                NaN  NaN        NaN   \n",
       "\n",
       "   GTI_CodTypeInvestisseurMif2  GTI_CodExperienceMif2  \\\n",
       "0                          NaN                    NaN   \n",
       "1                          NaN                    NaN   \n",
       "2                          NaN                    NaN   \n",
       "3                          NaN                    NaN   \n",
       "4                          NaN                    NaN   \n",
       "\n",
       "   GTI_CodCapaciteProduitComplexeMif2 DepartementResidence  \n",
       "0                                 NaN                   13  \n",
       "1                                 NaN                   44  \n",
       "2                                 NaN                   75  \n",
       "3                                 NaN                   95  \n",
       "4                                 NaN                   83  "
      ]
     },
     "execution_count": 6,
     "metadata": {},
     "output_type": "execute_result"
    }
   ],
   "source": [
    "GeneriquesTiers.head()"
   ]
  },
  {
   "cell_type": "markdown",
   "metadata": {},
   "source": [
    "### Suppréssion des colonnes non utilisées :"
   ]
  },
  {
   "cell_type": "code",
   "execution_count": 14,
   "metadata": {},
   "outputs": [],
   "source": [
    "# Enumération des colonnes à conserver selon l'archtiecture de la Datawarehouse\n",
    "conserver = [\n",
    "\"GTI_CodTiers\",\n",
    "\"GTI_CodPrestataire\",\n",
    "\"GTI_CodSociete\",\n",
    "\"GTI_DatNaissanceOuCreation\",\n",
    "\"civilite\",\n",
    "\"Sexe\",\n",
    "\"SituationFamiliale\",\n",
    "\"csp\",\n",
    "\"profession\"\n",
    "    \n",
    "]"
   ]
  },
  {
   "cell_type": "code",
   "execution_count": 15,
   "metadata": {},
   "outputs": [],
   "source": [
    "# Selection des colonnes à conserver dans le dataframe \"GeneriquesTiers\"\n",
    "GeneriquesTiers = GeneriquesTiers[conserver].copy()"
   ]
  },
  {
   "cell_type": "code",
   "execution_count": 17,
   "metadata": {},
   "outputs": [
    {
     "data": {
      "text/html": [
       "<div>\n",
       "<style scoped>\n",
       "    .dataframe tbody tr th:only-of-type {\n",
       "        vertical-align: middle;\n",
       "    }\n",
       "\n",
       "    .dataframe tbody tr th {\n",
       "        vertical-align: top;\n",
       "    }\n",
       "\n",
       "    .dataframe thead th {\n",
       "        text-align: right;\n",
       "    }\n",
       "</style>\n",
       "<table border=\"1\" class=\"dataframe\">\n",
       "  <thead>\n",
       "    <tr style=\"text-align: right;\">\n",
       "      <th></th>\n",
       "      <th>GTI_CodTiers</th>\n",
       "      <th>GTI_CodPrestataire</th>\n",
       "      <th>GTI_CodSociete</th>\n",
       "      <th>GTI_DatNaissanceOuCreation</th>\n",
       "      <th>civilite</th>\n",
       "      <th>Sexe</th>\n",
       "      <th>SituationFamiliale</th>\n",
       "      <th>csp</th>\n",
       "      <th>profession</th>\n",
       "    </tr>\n",
       "  </thead>\n",
       "  <tbody>\n",
       "    <tr>\n",
       "      <th>0</th>\n",
       "      <td>0xEF95D701D557C772829DEA1799F993F1</td>\n",
       "      <td>GV1</td>\n",
       "      <td>OBP</td>\n",
       "      <td>1990.0</td>\n",
       "      <td>Madame</td>\n",
       "      <td>FEMININ</td>\n",
       "      <td>NaN</td>\n",
       "      <td>NaN</td>\n",
       "      <td>NaN</td>\n",
       "    </tr>\n",
       "    <tr>\n",
       "      <th>1</th>\n",
       "      <td>0x7DB06BECD6FD75E03E214A397AA4B717</td>\n",
       "      <td>GV1</td>\n",
       "      <td>OBP</td>\n",
       "      <td>1970.0</td>\n",
       "      <td>Madame</td>\n",
       "      <td>FEMININ</td>\n",
       "      <td>NaN</td>\n",
       "      <td>NaN</td>\n",
       "      <td>NaN</td>\n",
       "    </tr>\n",
       "    <tr>\n",
       "      <th>2</th>\n",
       "      <td>0x9CF059985C10E2A99077C65912980377</td>\n",
       "      <td>GV1</td>\n",
       "      <td>OBP</td>\n",
       "      <td>1940.0</td>\n",
       "      <td>Monsieur</td>\n",
       "      <td>Masculin</td>\n",
       "      <td>NaN</td>\n",
       "      <td>NaN</td>\n",
       "      <td>NaN</td>\n",
       "    </tr>\n",
       "    <tr>\n",
       "      <th>3</th>\n",
       "      <td>0x846F952808A6A0923BE4572E9B61902B</td>\n",
       "      <td>GV1</td>\n",
       "      <td>OBP</td>\n",
       "      <td>1960.0</td>\n",
       "      <td>Madame</td>\n",
       "      <td>FEMININ</td>\n",
       "      <td>NaN</td>\n",
       "      <td>NaN</td>\n",
       "      <td>NaN</td>\n",
       "    </tr>\n",
       "    <tr>\n",
       "      <th>4</th>\n",
       "      <td>0x5188CAC4E12B49220EB69C5BDD7726BF</td>\n",
       "      <td>GV1</td>\n",
       "      <td>OBP</td>\n",
       "      <td>1940.0</td>\n",
       "      <td>Monsieur</td>\n",
       "      <td>Masculin</td>\n",
       "      <td>NaN</td>\n",
       "      <td>NaN</td>\n",
       "      <td>NaN</td>\n",
       "    </tr>\n",
       "  </tbody>\n",
       "</table>\n",
       "</div>"
      ],
      "text/plain": [
       "                         GTI_CodTiers GTI_CodPrestataire GTI_CodSociete  \\\n",
       "0  0xEF95D701D557C772829DEA1799F993F1                GV1            OBP   \n",
       "1  0x7DB06BECD6FD75E03E214A397AA4B717                GV1            OBP   \n",
       "2  0x9CF059985C10E2A99077C65912980377                GV1            OBP   \n",
       "3  0x846F952808A6A0923BE4572E9B61902B                GV1            OBP   \n",
       "4  0x5188CAC4E12B49220EB69C5BDD7726BF                GV1            OBP   \n",
       "\n",
       "   GTI_DatNaissanceOuCreation  civilite      Sexe SituationFamiliale  csp  \\\n",
       "0                      1990.0    Madame   FEMININ                NaN  NaN   \n",
       "1                      1970.0    Madame   FEMININ                NaN  NaN   \n",
       "2                      1940.0  Monsieur  Masculin                NaN  NaN   \n",
       "3                      1960.0    Madame   FEMININ                NaN  NaN   \n",
       "4                      1940.0  Monsieur  Masculin                NaN  NaN   \n",
       "\n",
       "  profession  \n",
       "0        NaN  \n",
       "1        NaN  \n",
       "2        NaN  \n",
       "3        NaN  \n",
       "4        NaN  "
      ]
     },
     "execution_count": 17,
     "metadata": {},
     "output_type": "execute_result"
    }
   ],
   "source": [
    "GeneriquesTiers.head()"
   ]
  },
  {
   "cell_type": "code",
   "execution_count": 18,
   "metadata": {},
   "outputs": [
    {
     "data": {
      "text/plain": [
       "GTI_CodTiers                   object\n",
       "GTI_CodPrestataire             object\n",
       "GTI_CodSociete                 object\n",
       "GTI_DatNaissanceOuCreation    float64\n",
       "civilite                       object\n",
       "Sexe                           object\n",
       "SituationFamiliale             object\n",
       "csp                            object\n",
       "profession                     object\n",
       "dtype: object"
      ]
     },
     "execution_count": 18,
     "metadata": {},
     "output_type": "execute_result"
    }
   ],
   "source": [
    "# Affichage du types des variables\n",
    "GeneriquesTiers.dtypes"
   ]
  },
  {
   "cell_type": "markdown",
   "metadata": {},
   "source": [
    "### Nettoyage des données manquantes :"
   ]
  },
  {
   "cell_type": "code",
   "execution_count": 19,
   "metadata": {},
   "outputs": [
    {
     "data": {
      "text/plain": [
       "GTI_CodTiers                     0\n",
       "GTI_CodPrestataire               0\n",
       "GTI_CodSociete                   0\n",
       "GTI_DatNaissanceOuCreation     570\n",
       "civilite                      1814\n",
       "Sexe                             0\n",
       "SituationFamiliale            6058\n",
       "csp                           6046\n",
       "profession                    6038\n",
       "dtype: int64"
      ]
     },
     "execution_count": 19,
     "metadata": {},
     "output_type": "execute_result"
    }
   ],
   "source": [
    "GeneriquesTiers.isna().sum()"
   ]
  },
  {
   "cell_type": "markdown",
   "metadata": {},
   "source": [
    "Les colonnes : \n",
    "\n",
    "* **GTI_DatNaissanceOuCreation**\n",
    "* **civilite**\n",
    "\n",
    "\n",
    "Contiennent respectivement 1% et 3%  de données manquantes donc on peut supprimer les lignes manquantes car c'est des nombres faible.\n",
    "Cependant , les colonnes :\n",
    "* **SituationFamiliale**\n",
    "* **csp**\n",
    "* **profession**\n",
    "\n",
    "contiennent plus de 11% des données manquantes, donc ce n'est pas utile de supprimer les lignes. Nous allons donc remplacer les valeurs nulles par les données aqéquates."
   ]
  },
  {
   "cell_type": "markdown",
   "metadata": {},
   "source": [
    "### Suppréssion des lignes négligable:"
   ]
  },
  {
   "cell_type": "code",
   "execution_count": 47,
   "metadata": {},
   "outputs": [],
   "source": [
    "GeneriquesTiers.dropna(subset = [\"GTI_DatNaissanceOuCreation\", \"civilite\"], inplace=True)"
   ]
  },
  {
   "cell_type": "code",
   "execution_count": 48,
   "metadata": {},
   "outputs": [
    {
     "data": {
      "text/plain": [
       "GTI_CodTiers                     0\n",
       "GTI_CodPrestataire               0\n",
       "GTI_CodSociete                   0\n",
       "GTI_DatNaissanceOuCreation       0\n",
       "civilite                         0\n",
       "Sexe                             0\n",
       "SituationFamiliale            4244\n",
       "csp                           4232\n",
       "profession                    4224\n",
       "dtype: int64"
      ]
     },
     "execution_count": 48,
     "metadata": {},
     "output_type": "execute_result"
    }
   ],
   "source": [
    "# Affichage du nouveau nombre de valeurs nulles dans les lignes :\n",
    "GeneriquesTiers.isna().sum()"
   ]
  },
  {
   "cell_type": "markdown",
   "metadata": {},
   "source": [
    "***On peut observer que le nombre de valeurs nulles a diminué d'une maniére significative , nous procédrons maintenant a l'analyse des varaibale quantitaves pour voir si on des valeurs abérantes sont présentes ou pas . ***"
   ]
  },
  {
   "cell_type": "markdown",
   "metadata": {},
   "source": [
    "### Etude Quantitative :"
   ]
  },
  {
   "cell_type": "code",
   "execution_count": 61,
   "metadata": {},
   "outputs": [
    {
     "data": {
      "text/plain": [
       "<matplotlib.axes._subplots.AxesSubplot at 0x2ab93a89eb8>"
      ]
     },
     "execution_count": 61,
     "metadata": {},
     "output_type": "execute_result"
    },
    {
     "data": {
      "image/png": "[encoded data removed]",
      "text/plain": [
       "<Figure size 432x288 with 1 Axes>"
      ]
     },
     "metadata": {},
     "output_type": "display_data"
    }
   ],
   "source": [
    "GeneriquesTiers.boxplot(column=[\"GTI_DatNaissanceOuCreation\"])"
   ]
  },
  {
   "cell_type": "markdown",
   "metadata": {},
   "source": [
    "***Nous Remarquons quelques points abérants qui existent (ceux qui sont > 2019 et < 1910), il faut donc supprimé quelques points***"
   ]
  },
  {
   "cell_type": "code",
   "execution_count": 102,
   "metadata": {},
   "outputs": [
    {
     "data": {
      "text/plain": [
       "<matplotlib.axes._subplots.AxesSubplot at 0x2ab94890748>"
      ]
     },
     "execution_count": 102,
     "metadata": {},
     "output_type": "execute_result"
    },
    {
     "data": {
      "image/png": "[encoded data removed]",
      "text/plain": [
       "<Figure size 432x288 with 1 Axes>"
      ]
     },
     "metadata": {},
     "output_type": "display_data"
    }
   ],
   "source": [
    "#csp : Salariés non cadres\n",
    "#profession :NON CONNU\n",
    "subset  =GeneriquesTiers[GeneriquesTiers[\"GTI_DatNaissanceOuCreation\"] > 2019]+ GeneriquesTiers[GeneriquesTiers[\"GTI_DatNaissanceOuCreation\"]<1910]\n",
    "GeneriquesTiers=GeneriquesTiers.drop(index = subset.index)\n",
    "GeneriquesTiers.boxplot(column=[\"GTI_DatNaissanceOuCreation\"])"
   ]
  },
  {
   "cell_type": "markdown",
   "metadata": {},
   "source": [
    "*** Voila une amélioration du dataset avec encore quelques point considére comme abérant (statistiquement parlant ) mais qui ne le sont pas significativement ***"
   ]
  },
  {
   "cell_type": "markdown",
   "metadata": {},
   "source": [
    "## Etude qualitative :\n",
    "D'aprés le dictionnaire de données qui nous a été fourni, on trouve que **SituationFamiliale**, **profession** et **csp**  s'exprime sous la forme : **_\"Si (SituationFamiliale/profession/csp)décrite : description respective de la variable\"_** donc si la ligne est vide pour ces colonnes, alors on replcara les valeurs nulle par :\n",
    "* **_\"Salariés non cadres\"_** : pour csp\n",
    "* **_\"NON CONNU\"_** : pour profession\n",
    "* **_\"Situation inconnue\"_** : pour SituationFamiliale"
   ]
  },
  {
   "cell_type": "code",
   "execution_count": 109,
   "metadata": {},
   "outputs": [],
   "source": [
    "GeneriquesTiers[\"SituationFamiliale\"] = GeneriquesTiers[\"SituationFamiliale\"].replace(np.nan, 'Situation inconnue', regex=True)\n",
    "GeneriquesTiers[\"csp\"] = GeneriquesTiers[\"csp\"].replace(np.nan, 'Salariés non cadres', regex=True)\n",
    "GeneriquesTiers[\"profession\"] = GeneriquesTiers[\"profession\"].replace(np.nan, 'NON CONNU', regex=True)"
   ]
  },
  {
   "cell_type": "code",
   "execution_count": 110,
   "metadata": {},
   "outputs": [
    {
     "data": {
      "text/plain": [
       "GTI_CodTiers                  0\n",
       "GTI_CodPrestataire            0\n",
       "GTI_CodSociete                0\n",
       "GTI_DatNaissanceOuCreation    0\n",
       "civilite                      0\n",
       "Sexe                          0\n",
       "SituationFamiliale            0\n",
       "csp                           0\n",
       "profession                    0\n",
       "dtype: int64"
      ]
     },
     "execution_count": 110,
     "metadata": {},
     "output_type": "execute_result"
    }
   ],
   "source": [
    "# Affichage du nouveau nombre de valeurs nulles dans les lignes :\n",
    "GeneriquesTiers.isna().sum()"
   ]
  },
  {
   "cell_type": "markdown",
   "metadata": {},
   "source": [
    "* Comme nous pouvons le voir, il n'y a plus aucune valeur manquante. Voici le nouveau dataframe :"
   ]
  },
  {
   "cell_type": "code",
   "execution_count": 111,
   "metadata": {},
   "outputs": [
    {
     "data": {
      "text/html": [
       "<div>\n",
       "<style scoped>\n",
       "    .dataframe tbody tr th:only-of-type {\n",
       "        vertical-align: middle;\n",
       "    }\n",
       "\n",
       "    .dataframe tbody tr th {\n",
       "        vertical-align: top;\n",
       "    }\n",
       "\n",
       "    .dataframe thead th {\n",
       "        text-align: right;\n",
       "    }\n",
       "</style>\n",
       "<table border=\"1\" class=\"dataframe\">\n",
       "  <thead>\n",
       "    <tr style=\"text-align: right;\">\n",
       "      <th></th>\n",
       "      <th>GTI_CodTiers</th>\n",
       "      <th>GTI_CodPrestataire</th>\n",
       "      <th>GTI_CodSociete</th>\n",
       "      <th>GTI_DatNaissanceOuCreation</th>\n",
       "      <th>civilite</th>\n",
       "      <th>Sexe</th>\n",
       "      <th>SituationFamiliale</th>\n",
       "      <th>csp</th>\n",
       "      <th>profession</th>\n",
       "    </tr>\n",
       "  </thead>\n",
       "  <tbody>\n",
       "    <tr>\n",
       "      <th>0</th>\n",
       "      <td>0xEF95D701D557C772829DEA1799F993F1</td>\n",
       "      <td>GV1</td>\n",
       "      <td>OBP</td>\n",
       "      <td>1990.0</td>\n",
       "      <td>Madame</td>\n",
       "      <td>FEMININ</td>\n",
       "      <td>Situation inconnue</td>\n",
       "      <td>Salariés non cadres</td>\n",
       "      <td>NON CONNU</td>\n",
       "    </tr>\n",
       "    <tr>\n",
       "      <th>1</th>\n",
       "      <td>0x7DB06BECD6FD75E03E214A397AA4B717</td>\n",
       "      <td>GV1</td>\n",
       "      <td>OBP</td>\n",
       "      <td>1970.0</td>\n",
       "      <td>Madame</td>\n",
       "      <td>FEMININ</td>\n",
       "      <td>Situation inconnue</td>\n",
       "      <td>Salariés non cadres</td>\n",
       "      <td>NON CONNU</td>\n",
       "    </tr>\n",
       "    <tr>\n",
       "      <th>2</th>\n",
       "      <td>0x9CF059985C10E2A99077C65912980377</td>\n",
       "      <td>GV1</td>\n",
       "      <td>OBP</td>\n",
       "      <td>1940.0</td>\n",
       "      <td>Monsieur</td>\n",
       "      <td>Masculin</td>\n",
       "      <td>Situation inconnue</td>\n",
       "      <td>Salariés non cadres</td>\n",
       "      <td>NON CONNU</td>\n",
       "    </tr>\n",
       "    <tr>\n",
       "      <th>3</th>\n",
       "      <td>0x846F952808A6A0923BE4572E9B61902B</td>\n",
       "      <td>GV1</td>\n",
       "      <td>OBP</td>\n",
       "      <td>1960.0</td>\n",
       "      <td>Madame</td>\n",
       "      <td>FEMININ</td>\n",
       "      <td>Situation inconnue</td>\n",
       "      <td>Salariés non cadres</td>\n",
       "      <td>NON CONNU</td>\n",
       "    </tr>\n",
       "    <tr>\n",
       "      <th>4</th>\n",
       "      <td>0x5188CAC4E12B49220EB69C5BDD7726BF</td>\n",
       "      <td>GV1</td>\n",
       "      <td>OBP</td>\n",
       "      <td>1940.0</td>\n",
       "      <td>Monsieur</td>\n",
       "      <td>Masculin</td>\n",
       "      <td>Situation inconnue</td>\n",
       "      <td>Salariés non cadres</td>\n",
       "      <td>NON CONNU</td>\n",
       "    </tr>\n",
       "  </tbody>\n",
       "</table>\n",
       "</div>"
      ],
      "text/plain": [
       "                         GTI_CodTiers GTI_CodPrestataire GTI_CodSociete  \\\n",
       "0  0xEF95D701D557C772829DEA1799F993F1                GV1            OBP   \n",
       "1  0x7DB06BECD6FD75E03E214A397AA4B717                GV1            OBP   \n",
       "2  0x9CF059985C10E2A99077C65912980377                GV1            OBP   \n",
       "3  0x846F952808A6A0923BE4572E9B61902B                GV1            OBP   \n",
       "4  0x5188CAC4E12B49220EB69C5BDD7726BF                GV1            OBP   \n",
       "\n",
       "   GTI_DatNaissanceOuCreation  civilite      Sexe  SituationFamiliale  \\\n",
       "0                      1990.0    Madame   FEMININ  Situation inconnue   \n",
       "1                      1970.0    Madame   FEMININ  Situation inconnue   \n",
       "2                      1940.0  Monsieur  Masculin  Situation inconnue   \n",
       "3                      1960.0    Madame   FEMININ  Situation inconnue   \n",
       "4                      1940.0  Monsieur  Masculin  Situation inconnue   \n",
       "\n",
       "                   csp profession  \n",
       "0  Salariés non cadres  NON CONNU  \n",
       "1  Salariés non cadres  NON CONNU  \n",
       "2  Salariés non cadres  NON CONNU  \n",
       "3  Salariés non cadres  NON CONNU  \n",
       "4  Salariés non cadres  NON CONNU  "
      ]
     },
     "execution_count": 111,
     "metadata": {},
     "output_type": "execute_result"
    }
   ],
   "source": [
    "GeneriquesTiers.head()"
   ]
  },
  {
   "cell_type": "markdown",
   "metadata": {},
   "source": [
    "* Donc on peut exporter les données en un fichier csv."
   ]
  },
  {
   "cell_type": "markdown",
   "metadata": {},
   "source": [
    "# Export des nouvelles données : \n",
    "## Attention à ne pas remplacer le fichier CLI_GCO_GeneriquesComptes.csv original.\n",
    "### Remplacer le dossier de destination dans la fonction suivante on bien son nom :"
   ]
  },
  {
   "cell_type": "code",
   "execution_count": 115,
   "metadata": {},
   "outputs": [],
   "source": [
    "# !!! Il faut garder le caractére 'r' au début du chemin\n",
    "GeneriquesTiers.to_csv(r\"./Ouput/CLI_GTI_GeneriquesTiers.csv\")"
   ]
  },
  {
   "cell_type": "code",
   "execution_count": null,
   "metadata": {},
   "outputs": [],
   "source": []
  }
 ],
 "metadata": {
  "kernelspec": {
   "display_name": "Python 3",
   "language": "python",
   "name": "python3"
  },
  "language_info": {
   "codemirror_mode": {
    "name": "ipython",
    "version": 3
   },
   "file_extension": ".py",
   "mimetype": "text/x-python",
   "name": "python",
   "nbconvert_exporter": "python",
   "pygments_lexer": "ipython3",
   "version": "3.6.5"
  }
 },
 "nbformat": 4,
 "nbformat_minor": 2
}
